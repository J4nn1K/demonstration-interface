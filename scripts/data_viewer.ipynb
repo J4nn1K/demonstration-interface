{
 "cells": [
  {
   "cell_type": "code",
   "execution_count": null,
   "metadata": {},
   "outputs": [],
   "source": [
    "%matplotlib widget\n",
    "from src.config import DATA_DIR\n",
    "import h5py\n",
    "import numpy as np\n",
    "np.set_printoptions(precision=3, suppress=True)\n",
    "import matplotlib.pyplot as plt\n",
    "import os\n",
    "import glob\n",
    "import mediapy as media\n",
    "import cv2"
   ]
  },
  {
   "cell_type": "code",
   "execution_count": null,
   "metadata": {},
   "outputs": [],
   "source": [
    "f = h5py.File(\"/home/jannik/Repos/demonstration-interface/data/session_20240620_121229/episode_20240620_121243.h5\",'r')\n",
    "for key in f.keys():\n",
    "    print(f\"{f[key].dtype}\\t {key}  {f[key].shape}\")"
   ]
  },
  {
   "cell_type": "code",
   "execution_count": null,
   "metadata": {},
   "outputs": [],
   "source": [
    "timestamps = np.array(f[\"timestamps\"])\n",
    "\n",
    "color_images = np.array(f['color_images'])\n",
    "color_images = np.array([cv2.cvtColor(image, cv2.COLOR_BGR2RGB) for image in color_images])\n",
    "\n",
    "depth_images = np.array(f['depth_images'])\n",
    "depth_images = cv2.normalize(depth_images, None, 0, 255, cv2.NORM_MINMAX, cv2.CV_32F)\n",
    "\n",
    "trigger_states = np.array(f['trigger_states'])\n",
    "gripper_states = np.array(f['gripper_states'])\n",
    "\n",
    "poses = np.array(f['pose_values'])"
   ]
  },
  {
   "cell_type": "code",
   "execution_count": null,
   "metadata": {},
   "outputs": [],
   "source": [
    "fig = plt.figure()\n",
    "plt.plot(range(len(trigger_states)), trigger_states)\n",
    "plt.plot(range(len(gripper_states)), gripper_states)\n",
    "plt.show()"
   ]
  },
  {
   "cell_type": "code",
   "execution_count": null,
   "metadata": {},
   "outputs": [],
   "source": [
    "media.show_video(color_images, fps=30)"
   ]
  },
  {
   "cell_type": "code",
   "execution_count": null,
   "metadata": {},
   "outputs": [],
   "source": [
    "media.show_video(depth_images, fps=30)"
   ]
  },
  {
   "cell_type": "code",
   "execution_count": null,
   "metadata": {},
   "outputs": [],
   "source": [
    "def extract_translation(pose_matrix):\n",
    "    return pose_matrix[:3, 3]\n",
    "\n",
    "def extract_orientation(pose_matrix):\n",
    "    return pose_matrix[:3, :3]\n",
    "\n",
    "def transform_pose(pose, transformation):\n",
    "    return np.dot(transformation, pose)\n",
    "\n",
    "def set_axes_equal(ax):\n",
    "    \"\"\"\n",
    "    Make axes of 3D plot have equal scale so that spheres appear as spheres,\n",
    "    cubes as cubes, etc.\n",
    "\n",
    "    Input\n",
    "      ax: a matplotlib axis, e.g., as output from plt.gca().\n",
    "    \"\"\"\n",
    "\n",
    "    x_limits = ax.get_xlim3d()\n",
    "    y_limits = ax.get_ylim3d()\n",
    "    z_limits = ax.get_zlim3d()\n",
    "\n",
    "    x_range = abs(x_limits[1] - x_limits[0])\n",
    "    x_middle = np.mean(x_limits)\n",
    "    y_range = abs(y_limits[1] - y_limits[0])\n",
    "    y_middle = np.mean(y_limits)\n",
    "    z_range = abs(z_limits[1] - z_limits[0])\n",
    "    z_middle = np.mean(z_limits)\n",
    "\n",
    "    # The plot bounding box is a sphere in the sense of the infinity\n",
    "    # norm, hence I call half the max range the plot radius.\n",
    "    plot_radius = 0.5*max([x_range, y_range, z_range])\n",
    "\n",
    "    ax.set_xlim3d([x_middle - plot_radius, x_middle + plot_radius])\n",
    "    ax.set_ylim3d([y_middle - plot_radius, y_middle + plot_radius])\n",
    "    ax.set_zlim3d([z_middle - plot_radius, z_middle + plot_radius])\n"
   ]
  },
  {
   "cell_type": "code",
   "execution_count": null,
   "metadata": {},
   "outputs": [],
   "source": [
    "T_x = np.array(\n",
    "    [\n",
    "        [1, 0, 0, 0],\n",
    "        [0, -np.sqrt(2) / 2, np.sqrt(2) / 2, 0],\n",
    "        [0, -np.sqrt(2) / 2, -np.sqrt(2) / 2, 0],\n",
    "        [0, 0, 0, 1],\n",
    "    ]\n",
    ")\n",
    "\n",
    "T_y = np.array([[0, 0, 1, 0], [0, 1, 0, 0], [-1, 0, 0, 0], [0, 0, 0, 1]])\n",
    "print(np.dot(T_y, T_x))"
   ]
  },
  {
   "cell_type": "code",
   "execution_count": null,
   "metadata": {},
   "outputs": [],
   "source": [
    "# ee_poses = np.array([transform_pose(np.dot(T_x,T_y),pose) for pose in poses])\n",
    "\n",
    "translations = np.array([extract_translation(pose) for pose in poses])\n",
    "orientations = np.array([extract_orientation(pose) for pose in poses])\n",
    "\n",
    "fig = plt.figure()\n",
    "ax = fig.add_subplot(111, projection='3d')    \n",
    "ax.set_box_aspect([1.0, 1.0, 1.0])\n",
    "    \n",
    "# Plot trajectory\n",
    "ax.plot(translations[:, 0], translations[:, 1], translations[:, 2], '-', c=\"lightgrey\", label='Trajectory')\n",
    "\n",
    "translations = translations[::3]\n",
    "orientations = orientations[::3]\n",
    "\n",
    "# Plot orientation arrows\n",
    "for i in range(len(translations)):\n",
    "    t = translations[i]\n",
    "    R = orientations[i]\n",
    "    # R = np.dot(R_z, orientations[i])\n",
    "    ax.quiver(t[0], t[1], t[2], R[0, 0], R[1, 0], R[2, 0], length=0.04, color='r', arrow_length_ratio=0)\n",
    "    ax.quiver(t[0], t[1], t[2], R[0, 1], R[1, 1], R[2, 1], length=0.04, color='g', arrow_length_ratio=0)\n",
    "    ax.quiver(t[0], t[1], t[2], R[0, 2], R[1, 2], R[2, 2], length=0.04, color='b', arrow_length_ratio=0)\n",
    "    \n",
    "# ax.quiver(0,0,0, 1, 0, 0, length=200, color='r', arrow_length_ratio=0)\n",
    "# ax.quiver(0,0,0, 0,1,0, length=200, color='g', arrow_length_ratio=0)\n",
    "# ax.quiver(0,0,0, 0,0,1, length=200, color='b', arrow_length_ratio=0)\n",
    "    \n",
    "ax.set_xlabel('X')\n",
    "ax.set_ylabel('Y')\n",
    "ax.set_zlabel('Z')\n",
    "    \n",
    "ax.grid(True)\n",
    "ax.view_init(elev=-70, azim=-45, roll=-45)\n",
    "\n",
    "set_axes_equal(ax)\n",
    "plt.show()"
   ]
  },
  {
   "cell_type": "code",
   "execution_count": null,
   "metadata": {},
   "outputs": [],
   "source": []
  }
 ],
 "metadata": {
  "kernelspec": {
   "display_name": "Python 3",
   "language": "python",
   "name": "python3"
  },
  "language_info": {
   "codemirror_mode": {
    "name": "ipython",
    "version": 3
   },
   "file_extension": ".py",
   "mimetype": "text/x-python",
   "name": "python",
   "nbconvert_exporter": "python",
   "pygments_lexer": "ipython3",
   "version": "3.8.10"
  }
 },
 "nbformat": 4,
 "nbformat_minor": 2
}
