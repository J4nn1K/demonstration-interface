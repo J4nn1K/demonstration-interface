{
 "cells": [
  {
   "cell_type": "code",
   "execution_count": 1,
   "metadata": {},
   "outputs": [],
   "source": [
    "from pymodbus.client.sync import ModbusSerialClient\n",
    "from pymodbus.exceptions import ModbusIOException\n",
    "from math import ceil\n",
    "\n",
    "\n",
    "class communication:\n",
    "    def __init__(self):\n",
    "        self.client = None\n",
    "\n",
    "    def connectToDevice(self, device):\n",
    "        \"\"\"Connection to the client - the method takes the IP address (as a string, e.g. '192.168.1.11') as an argument.\"\"\"\n",
    "        self.client = ModbusSerialClient(\n",
    "            method=\"rtu\",\n",
    "            port=device,\n",
    "            stopbits=1,\n",
    "            bytesize=8,\n",
    "            baudrate=115200,\n",
    "            timeout=0.2,\n",
    "        )\n",
    "        if not self.client.connect():\n",
    "            print(\"Unable to connect to %s\" % device)\n",
    "            return False\n",
    "        return True\n",
    "\n",
    "    def disconnectFromDevice(self):\n",
    "        \"\"\"Close connection\"\"\"\n",
    "        self.client.close()\n",
    "\n",
    "    def sendCommand(self, data):\n",
    "        \"\"\"Send a command to the Gripper - the method takes a list of uint8 as an argument. The meaning of each variable depends on the Gripper model (see support.robotiq.com for more details)\"\"\"\n",
    "        # make sure data has an even number of elements\n",
    "        if len(data) % 2 == 1:\n",
    "            data.append(0)\n",
    "\n",
    "        # Initiate message as an empty list\n",
    "        message = []\n",
    "\n",
    "        # Fill message by combining two bytes in one register\n",
    "        for i in range(0, len(data) // 2):\n",
    "            message.append((data[2 * i] << 8) + data[2 * i + 1])\n",
    "\n",
    "        # To do!: Implement try/except\n",
    "        try:\n",
    "            self.client.write_registers(0x03E8, message, unit=0x0009)\n",
    "        except:\n",
    "            print(\"Modbus write operation failure\")\n",
    "            return False\n",
    "        return True\n",
    "\n",
    "    def getStatus(self, numBytes):\n",
    "        \"\"\"Sends a request to read, wait for the response and returns the Gripper status. The method gets the number of bytes to read as an argument\"\"\"\n",
    "        numRegs = int(ceil(numBytes / 2.0))\n",
    "\n",
    "        # To do!: Implement try/except\n",
    "        # Get status from the device\n",
    "        try:\n",
    "            response = self.client.read_holding_registers(0x07D0, numRegs, unit=0x0009)\n",
    "        except Exception as e:\n",
    "            print(e)\n",
    "            return None\n",
    "\n",
    "        # When reading failes, response is of type None\n",
    "        if response is None:\n",
    "            #   print(\"Failed to receive status\")\n",
    "            return None\n",
    "        # Newer versions of pymodbus returns a ModbusIOException instead\n",
    "        elif type(response) is ModbusIOException:\n",
    "            return None\n",
    "\n",
    "        # Instantiate output as an empty list\n",
    "        output = []\n",
    "\n",
    "        # Fill the output with the bytes in the appropriate order\n",
    "        for i in range(0, numRegs):\n",
    "            output.append((response.getRegister(i) & 0xFF00) >> 8)\n",
    "            output.append(response.getRegister(i) & 0x00FF)\n",
    "\n",
    "        # Output the result\n",
    "        return output"
   ]
  },
  {
   "cell_type": "code",
   "execution_count": 2,
   "metadata": {},
   "outputs": [],
   "source": [
    "# Copyright (c) Facebook, Inc. and its affiliates.\n",
    "#\n",
    "# This source code is licensed under the MIT license found in the\n",
    "# LICENSE file in the root directory of this source tree.\n",
    "#\n",
    "# Modified from: https://github.com/Danfoa/robotiq_2finger_grippers/blob/master/robotiq_2f_gripper_control/src/robotiq_2f_gripper_control/robotiq_2f_gripper.py\n",
    "\n",
    "import serial\n",
    "from serial.serialutil import SerialException\n",
    "\n",
    "from pymodbus.client.sync import ModbusSerialClient\n",
    "# from .robotiq_modbus_rtu import comModbusRtu\n",
    "\n",
    "from math import ceil\n",
    "\n",
    "import numpy as np\n",
    "import array\n",
    "\n",
    "ACTION_REQ_IDX = 7\n",
    "POS_INDEX = 10\n",
    "SPEED_INDEX = 11\n",
    "FORCE_INDEX = 12\n",
    "\n",
    "\n",
    "class Robotiq2FingerGripper:\n",
    "    def __init__(self, device_id=0, stroke=0.05, comport=\"/dev/ttyUSB0\", baud=115200):\n",
    "\n",
    "        self.client = communication()\n",
    "\n",
    "        connected = self.client.connectToDevice(device=comport)\n",
    "        if not connected:\n",
    "            raise Exception(\n",
    "                \"Communication with gripper %d on serial port: %s and baud rate: %d not achieved\"\n",
    "                % (device_id, comport, baud)\n",
    "            )\n",
    "\n",
    "        self.init_success = True\n",
    "        self.device_id = device_id + 9\n",
    "        self.stroke = stroke\n",
    "        self.initialize_communication_variables()\n",
    "\n",
    "        self.message = []\n",
    "\n",
    "    def _update_cmd(self):\n",
    "\n",
    "        # Initiate command as an empty list\n",
    "        self.message = []\n",
    "        # Build the command with each output variable\n",
    "        self.message.append(self.rACT + (self.rGTO << 3) + (self.rATR << 4))\n",
    "        self.message.append(0)\n",
    "        self.message.append(0)\n",
    "        self.message.append(self.rPR)\n",
    "        self.message.append(self.rSP)\n",
    "        self.message.append(self.rFR)\n",
    "\n",
    "    def sendCommand(self):\n",
    "        \"\"\"Send the command to the Gripper.\"\"\"\n",
    "        return self.client.sendCommand(self.message)\n",
    "\n",
    "    def getStatus(self):\n",
    "        \"\"\"Request the status from the gripper and return it in the Robotiq2FGripper_robot_input msg type.\"\"\"\n",
    "\n",
    "        # Acquire status from the Gripper\n",
    "        status = self.client.getStatus(6)\n",
    "\n",
    "        # Check if read was successful\n",
    "        if status is None:\n",
    "            return False\n",
    "\n",
    "        # Assign the values to their respective variables\n",
    "        self.gACT = (status[0] >> 0) & 0x01\n",
    "        self.gGTO = (status[0] >> 3) & 0x01\n",
    "        self.gSTA = (status[0] >> 4) & 0x03\n",
    "        self.gOBJ = (status[0] >> 6) & 0x03\n",
    "        self.gFLT = status[2]\n",
    "        self.gPR = status[3]\n",
    "        self.gPO = status[4]\n",
    "        self.gCU = status[5]\n",
    "\n",
    "        return True\n",
    "\n",
    "    def initialize_communication_variables(self):\n",
    "        # Out\n",
    "        self.rPR = 0\n",
    "        self.rSP = 255\n",
    "        self.rFR = 150\n",
    "        self.rARD = 1\n",
    "        self.rATR = 0\n",
    "        self.rGTO = 0\n",
    "        self.rACT = 0\n",
    "        # In\n",
    "        self.gSTA = 0\n",
    "        self.gACT = 0\n",
    "        self.gGTO = 0\n",
    "        self.gOBJ = 0\n",
    "        self.gFLT = 0\n",
    "        self.gPO = 0\n",
    "        self.gPR = 0\n",
    "        self.gCU = 0\n",
    "\n",
    "        self._update_cmd()\n",
    "        self._max_force = 100.0  # [%]\n",
    "\n",
    "    def shutdown(self):\n",
    "        self.client.close()\n",
    "\n",
    "    def activate_gripper(self):\n",
    "        self.rACT = 1\n",
    "        self.rPR = 0\n",
    "        self.rSP = 255\n",
    "        self.rFR = 150\n",
    "        self._update_cmd()\n",
    "\n",
    "    def deactivate_gripper(self):\n",
    "        self.rACT = 0\n",
    "        self._update_cmd()\n",
    "\n",
    "    def activate_emergency_release(self, open_gripper=True):\n",
    "        self.rATR = 1\n",
    "        self.rARD = 1\n",
    "\n",
    "        if open_gripper:\n",
    "            self.rARD = 0\n",
    "        self._update_cmd()\n",
    "\n",
    "    def deactivate_emergency_release(self):\n",
    "        self.rATR = 0\n",
    "        self._update_cmd()\n",
    "\n",
    "    def goto(self, pos, vel, force):\n",
    "        self.rACT = 1\n",
    "        self.rGTO = 1\n",
    "        # self.rPR = int(np.clip((3.0 - 230.0) / self.stroke * pos + 230.0, 0, 255))\n",
    "        # self.rPR = int(np.clip(255.0 / self.stroke * pos, 0, 255))\n",
    "        self.rPR = int(np.clip(255.0 * (1-pos), 0, 255))\n",
    "        self.rSP = int(np.clip(255.0 / (0.1 - 0.013) * vel - 0.013, 0, 255))\n",
    "        self.rFR = int(np.clip(255.0 / (self._max_force) * force, 0, 255))\n",
    "        self._update_cmd()\n",
    "\n",
    "    def stop(self):\n",
    "        self.rACT = 1\n",
    "        self.rGTO = 0\n",
    "        self._update_cmd()\n",
    "\n",
    "    def is_ready(self):\n",
    "        return self.gSTA == 3 and self.gACT == 1\n",
    "\n",
    "    def is_reset(self):\n",
    "        return self.gSTA == 0 or self.gACT == 0\n",
    "\n",
    "    def is_moving(self):\n",
    "        return self.gGTO == 1 and self.gOBJ == 0\n",
    "\n",
    "    def is_stopped(self):\n",
    "        return self.gOBJ != 0\n",
    "\n",
    "    def object_detected(self):\n",
    "        return self.gOBJ == 1 or self.gOBJ == 2\n",
    "\n",
    "    def get_fault_status(self):\n",
    "        return self.gFLT\n",
    "\n",
    "    def get_pos(self):\n",
    "        po = float(self.gPO)\n",
    "        return np.clip(self.stroke / (3.0 - 230.0) * (po - 230.0), 0, self.stroke)\n",
    "\n",
    "    def get_req_pos(self):\n",
    "        pr = float(self.gPR)\n",
    "        return np.clip(self.stroke / (3.0 - 230.0) * (pr - 230.0), 0, self.stroke)\n",
    "\n",
    "    def get_current(self):\n",
    "        return self.gCU * 0.1"
   ]
  },
  {
   "cell_type": "code",
   "execution_count": 3,
   "metadata": {},
   "outputs": [
    {
     "name": "stdout",
     "output_type": "stream",
     "text": [
      "/dev/ttyUSB0: USB TO RS-485 - USB TO RS-485 [USB VID:PID=0403:6015 SER=DA61TMJI LOCATION=1-2.3]\n"
     ]
    }
   ],
   "source": [
    "import serial.tools.list_ports\n",
    "ports = serial.tools.list_ports.comports()\n",
    "\n",
    "for port, desc, hwid in sorted(ports):\n",
    "        print(\"{}: {} [{}]\".format(port, desc, hwid))"
   ]
  },
  {
   "cell_type": "code",
   "execution_count": 4,
   "metadata": {},
   "outputs": [],
   "source": [
    "comport = '/dev/ttyUSB0'\n",
    "gripper = Robotiq2FingerGripper(comport=comport)"
   ]
  },
  {
   "cell_type": "code",
   "execution_count": 5,
   "metadata": {},
   "outputs": [],
   "source": [
    "if not gripper.init_success:\n",
    "    raise Exception(f\"Unable to open comport to {comport}\")\n",
    "if not gripper.getStatus():\n",
    "    raise Exception(f\"Failed to contact gripper on port {comport}... ABORTING\")"
   ]
  },
  {
   "cell_type": "code",
   "execution_count": 29,
   "metadata": {},
   "outputs": [
    {
     "name": "stdout",
     "output_type": "stream",
     "text": [
      "Activating gripper...\n"
     ]
    }
   ],
   "source": [
    "import time\n",
    "\n",
    "print(\"Activating gripper...\")\n",
    "gripper.activate_emergency_release()\n",
    "gripper.sendCommand()\n",
    "time.sleep(1)"
   ]
  },
  {
   "cell_type": "code",
   "execution_count": 30,
   "metadata": {},
   "outputs": [],
   "source": [
    "gripper.deactivate_emergency_release()\n",
    "gripper.sendCommand()\n",
    "time.sleep(1)"
   ]
  },
  {
   "cell_type": "code",
   "execution_count": 31,
   "metadata": {},
   "outputs": [
    {
     "data": {
      "text/plain": [
       "True"
      ]
     },
     "execution_count": 31,
     "metadata": {},
     "output_type": "execute_result"
    }
   ],
   "source": [
    "gripper.activate_gripper()\n",
    "gripper.sendCommand()"
   ]
  },
  {
   "cell_type": "code",
   "execution_count": 33,
   "metadata": {},
   "outputs": [
    {
     "ename": "Exception",
     "evalue": "Unable to activate!",
     "output_type": "error",
     "traceback": [
      "\u001b[0;31m---------------------------------------------------------------------------\u001b[0m",
      "\u001b[0;31mException\u001b[0m                                 Traceback (most recent call last)",
      "Cell \u001b[0;32mIn[33], line 8\u001b[0m\n\u001b[1;32m      6\u001b[0m     \u001b[38;5;28mprint\u001b[39m(\u001b[38;5;124m\"\u001b[39m\u001b[38;5;124mActivated.\u001b[39m\u001b[38;5;124m\"\u001b[39m)\n\u001b[1;32m      7\u001b[0m \u001b[38;5;28;01melse\u001b[39;00m:\n\u001b[0;32m----> 8\u001b[0m     \u001b[38;5;28;01mraise\u001b[39;00m \u001b[38;5;167;01mException\u001b[39;00m(\u001b[38;5;124mf\u001b[39m\u001b[38;5;124m\"\u001b[39m\u001b[38;5;124mUnable to activate!\u001b[39m\u001b[38;5;124m\"\u001b[39m)\n",
      "\u001b[0;31mException\u001b[0m: Unable to activate!"
     ]
    }
   ],
   "source": [
    "if (\n",
    "    gripper.is_ready()\n",
    "    and gripper.sendCommand()\n",
    "    and gripper.getStatus()\n",
    "):\n",
    "    print(\"Activated.\")\n",
    "else:\n",
    "    raise Exception(f\"Unable to activate!\")"
   ]
  },
  {
   "cell_type": "code",
   "execution_count": 34,
   "metadata": {},
   "outputs": [
    {
     "data": {
      "text/plain": [
       "0.011233480176211454"
      ]
     },
     "execution_count": 34,
     "metadata": {},
     "output_type": "execute_result"
    }
   ],
   "source": [
    "gripper.get_pos()"
   ]
  },
  {
   "cell_type": "code",
   "execution_count": 37,
   "metadata": {},
   "outputs": [
    {
     "data": {
      "text/plain": [
       "True"
      ]
     },
     "execution_count": 37,
     "metadata": {},
     "output_type": "execute_result"
    }
   ],
   "source": [
    "gripper.goto(pos=1, vel=0.5, force=0.5)\n",
    "gripper.sendCommand()"
   ]
  },
  {
   "cell_type": "code",
   "execution_count": null,
   "metadata": {},
   "outputs": [],
   "source": []
  }
 ],
 "metadata": {
  "kernelspec": {
   "display_name": "Python 3",
   "language": "python",
   "name": "python3"
  },
  "language_info": {
   "codemirror_mode": {
    "name": "ipython",
    "version": 3
   },
   "file_extension": ".py",
   "mimetype": "text/x-python",
   "name": "python",
   "nbconvert_exporter": "python",
   "pygments_lexer": "ipython3",
   "version": "3.8.10"
  }
 },
 "nbformat": 4,
 "nbformat_minor": 2
}
