{
 "cells": [
  {
   "cell_type": "code",
   "execution_count": null,
   "metadata": {},
   "outputs": [],
   "source": [
    "import pyzed.sl as sl\n",
    "import numpy as np\n",
    "from tqdm import tqdm\n",
    "import copy\n",
    "\n",
    "import matplotlib.pyplot as plt\n",
    "import mediapy as media\n",
    "import cv2"
   ]
  },
  {
   "cell_type": "code",
   "execution_count": null,
   "metadata": {},
   "outputs": [],
   "source": [
    "# Create the camera\n",
    "zed = sl.Camera()\n",
    "\n",
    "init_params = sl.InitParameters()\n",
    "init_params.camera_resolution = sl.RESOLUTION.AUTO\n",
    "init_params.camera_fps = 30\n",
    "init_params.coordinate_system = sl.COORDINATE_SYSTEM.RIGHT_HANDED_Y_UP\n",
    "init_params.coordinate_units = sl.UNIT.METER\n",
    "init_params.depth_mode = sl.DEPTH_MODE.PERFORMANCE\n",
    "\n",
    "# Open the camera\n",
    "err = zed.open(init_params)\n",
    "if err != sl.ERROR_CODE.SUCCESS:\n",
    "    print(\"Camera Open : \"+repr(err)+\". Exit program.\")\n",
    "    exit()"
   ]
  },
  {
   "cell_type": "code",
   "execution_count": null,
   "metadata": {},
   "outputs": [],
   "source": [
    "# Enable positional tracking with default parameters\n",
    "py_transform = sl.Transform()  # First create a Transform object for TrackingParameters object\n",
    "tracking_parameters = sl.PositionalTrackingParameters(_init_pos=py_transform)\n",
    "err = zed.enable_positional_tracking(tracking_parameters)\n",
    "if err != sl.ERROR_CODE.SUCCESS:\n",
    "    print(\"Enable positional tracking : \"+repr(err)+\". Exit program.\")\n",
    "    zed.close()\n",
    "    exit()"
   ]
  },
  {
   "cell_type": "code",
   "execution_count": null,
   "metadata": {},
   "outputs": [],
   "source": [
    "image = sl.Mat()\n",
    "pose = sl.Pose()\n",
    "images = []\n",
    "image_timesteps = []\n",
    "poses = []\n",
    "pose_timesteps = []\n",
    "runtime_parameters = sl.RuntimeParameters()\n",
    "\n",
    "frames = 300\n",
    "\n",
    "for _ in tqdm(range(frames)):\n",
    "    if zed.grab(runtime_parameters) == sl.ERROR_CODE.SUCCESS:\n",
    "    \n",
    "        # Get an image\n",
    "        zed.retrieve_image(image, sl.VIEW.LEFT)\n",
    "        image_timesteps.append(image.timestamp.get_milliseconds())\n",
    "    \n",
    "        images.append(copy.deepcopy(image.get_data()))\n",
    "    \n",
    "        # Get the pose\n",
    "        tracking_state = zed.get_position(pose, sl.REFERENCE_FRAME.WORLD)\n",
    "        \n",
    "        if tracking_state == sl.POSITIONAL_TRACKING_STATE.OK:    \n",
    "            py_translation = sl.Translation()\n",
    "            py_orientation = sl.Orientation()\n",
    "            pose_timesteps.append(pose.timestamp.get_milliseconds())\n",
    "    \n",
    "            poses.append(np.concatenate((\n",
    "                pose.get_translation(py_translation).get(),\n",
    "                pose.get_orientation(py_orientation).get()\n",
    "            )))"
   ]
  },
  {
   "cell_type": "code",
   "execution_count": null,
   "metadata": {},
   "outputs": [],
   "source": [
    "# Close the camera\n",
    "zed.close()"
   ]
  },
  {
   "cell_type": "code",
   "execution_count": null,
   "metadata": {},
   "outputs": [],
   "source": [
    "rgb_images = [cv2.cvtColor(i, cv2.COLOR_BGR2RGB) for i in images]\n",
    "poses = np.array(poses)"
   ]
  },
  {
   "cell_type": "code",
   "execution_count": null,
   "metadata": {},
   "outputs": [],
   "source": [
    "plt.plot(poses[:,:3])\n",
    "plt.show()"
   ]
  },
  {
   "cell_type": "code",
   "execution_count": null,
   "metadata": {},
   "outputs": [],
   "source": [
    "fig = plt.figure()\n",
    "ax = fig.add_subplot(111, projection = '3d')\n",
    "ax.plot(poses[:,0], poses[:,1], poses[:,2])\n",
    "ax.scatter(*poses[0,:3], color = 'red', marker = 'x')\n",
    "plt.show()\n"
   ]
  },
  {
   "cell_type": "code",
   "execution_count": null,
   "metadata": {},
   "outputs": [],
   "source": [
    "media.show_video(rgb_images)"
   ]
  }
 ],
 "metadata": {
  "kernelspec": {
   "display_name": "Python 3",
   "language": "python",
   "name": "python3"
  },
  "language_info": {
   "codemirror_mode": {
    "name": "ipython",
    "version": 3
   },
   "file_extension": ".py",
   "mimetype": "text/x-python",
   "name": "python",
   "nbconvert_exporter": "python",
   "pygments_lexer": "ipython3",
   "version": "3.8.10"
  }
 },
 "nbformat": 4,
 "nbformat_minor": 2
}
