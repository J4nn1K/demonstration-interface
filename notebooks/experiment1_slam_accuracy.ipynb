{
 "cells": [
  {
   "cell_type": "code",
   "execution_count": null,
   "metadata": {},
   "outputs": [],
   "source": [
    "from src.utils import poses_from_vicon, set_axes_equal, compute_transformation_matrix, apply_transformation, compute_ate, interpolate_to_percentage\n",
    "import matplotlib.pyplot as plt\n",
    "import h5py\n",
    "import numpy as np\n",
    "np.set_printoptions(precision=3, suppress=True)\n",
    "%matplotlib widget\n",
    "\n",
    "from scipy.signal import resample_poly\n",
    "from scipy.spatial.transform import Rotation\n",
    "\n",
    "import cv2\n",
    "import mediapy\n",
    "from PIL import Image, ImageDraw, ImageFont"
   ]
  },
  {
   "cell_type": "markdown",
   "metadata": {},
   "source": [
    "### Data Reading & Synchronization"
   ]
  },
  {
   "cell_type": "code",
   "execution_count": null,
   "metadata": {},
   "outputs": [],
   "source": [
    "def receive_data(path, trial):\n",
    "    # Read device poses\n",
    "    f = h5py.File(f\"{path}/{trial}.h5\",'r')\n",
    "    poses = np.array(f['pose_values'])\n",
    "    color_images = np.array(f['color_images'])\n",
    "    \n",
    "    # Read Vicon poses\n",
    "    vicon_poses = poses_from_vicon(f\"{path}/{trial}.csv\")\n",
    "    up = 3  \n",
    "    down = 10 \n",
    "    vicon_poses_downsampled = resample_poly(vicon_poses, up, down)\n",
    "    \n",
    "    # Loop through all possible starting points and find the one with the lowest ATE\n",
    "    frame_diff = len(vicon_poses_downsampled)-len(poses)    \n",
    "    best_idx = 0\n",
    "    best_ate = 1e9\n",
    "    for idx in range(frame_diff):\n",
    "        vicon_poses_cropped = vicon_poses_downsampled[idx:idx+len(poses)]\n",
    "        R_optimal, t_optimal = compute_transformation_matrix(poses, vicon_poses_cropped)\n",
    "        aligned_estimated_poses = apply_transformation(poses, R_optimal, t_optimal) \n",
    "        ate = compute_ate(aligned_estimated_poses, vicon_poses_cropped)\n",
    "    \n",
    "        if ate < best_ate:\n",
    "            best_ate = ate\n",
    "            best_idx = idx\n",
    "\n",
    "    vicon_poses_final = vicon_poses_downsampled[best_idx:best_idx+len(poses)]\n",
    "    \n",
    "    R_optimal, t_optimal = compute_transformation_matrix(poses, vicon_poses_final)\n",
    "    print(R_optimal, t_optimal)\n",
    "    aligned_poses = apply_transformation(poses, R_optimal, t_optimal) \n",
    "    \n",
    "    print(f\"{trial} - best ATE {best_ate:.4f} at index {best_idx}\")\n",
    "    \n",
    "    return aligned_poses, vicon_poses_final, color_images "
   ]
  },
  {
   "cell_type": "code",
   "execution_count": null,
   "metadata": {},
   "outputs": [],
   "source": [
    "poses1, vicon_poses1, video1 = receive_data(path=\"/Users/jannik/Repos/demonstration-interface/data/session_20240620_142739_smoothing\", trial=\"trial1\")\n",
    "poses2, vicon_poses2, video2 = receive_data(path=\"/Users/jannik/Repos/demonstration-interface/data/session_20240620_142739_smoothing\", trial=\"trial2\")\n",
    "poses3, vicon_poses3, video3 = receive_data(path=\"/Users/jannik/Repos/demonstration-interface/data/session_20240620_142739_smoothing\", trial=\"trial3\")\n",
    "poses4, vicon_poses4, video4 = receive_data(path=\"/Users/jannik/Repos/demonstration-interface/data/session_20240620_142739_smoothing\", trial=\"trial4\")"
   ]
  },
  {
   "cell_type": "markdown",
   "metadata": {},
   "source": [
    "### Manual Seperation of Episodes"
   ]
  },
  {
   "cell_type": "code",
   "execution_count": null,
   "metadata": {},
   "outputs": [],
   "source": [
    "def annotate_and_show(video):\n",
    "    annotated_frames = []\n",
    "    for idx, frame in enumerate(video):    \n",
    "        img = Image.fromarray(frame)\n",
    "        draw = ImageDraw.Draw(img)\n",
    "        draw.text((20, 20), str(idx), fill=(255, 255, 255))\n",
    "        annotated_frames.append(np.array(img))\n",
    "    \n",
    "    mediapy.show_video(annotated_frames, fps=30)\n",
    "# annotate_and_show(video4)"
   ]
  },
  {
   "cell_type": "code",
   "execution_count": null,
   "metadata": {},
   "outputs": [],
   "source": [
    "episode1_indices = range(0,155)\n",
    "episode2_indices = range(260,460)\n",
    "episode3_indices = range(550,719)\n",
    "\n",
    "episode4_indices = range(0,179)\n",
    "episode5_indices = range(280,406)\n",
    "episode6_indices = range(510,683)\n",
    "\n",
    "episode7_indices = range(0,233)\n",
    "episode8_indices = range(325,535)\n",
    "episode9_indices = range(700,928)\n",
    "\n",
    "episode10_indices = range(25,220)\n",
    "episode11_indices = range(330,535)\n",
    "episode12_indices = range(640,840)"
   ]
  },
  {
   "cell_type": "code",
   "execution_count": null,
   "metadata": {},
   "outputs": [],
   "source": [
    "cleaned_poses = [\n",
    "    poses1[episode1_indices],\n",
    "    poses1[episode2_indices],\n",
    "    poses1[episode3_indices],\n",
    "    poses2[episode4_indices],\n",
    "    poses2[episode5_indices],\n",
    "    poses2[episode6_indices],\n",
    "    poses3[episode7_indices],\n",
    "    poses3[episode8_indices],\n",
    "    poses3[episode9_indices],\n",
    "    poses4[episode10_indices],\n",
    "    poses4[episode11_indices],\n",
    "    poses4[episode12_indices]\n",
    "]\n",
    "\n",
    "cleaned_vicon_poses = [\n",
    "    vicon_poses1[episode1_indices],\n",
    "    vicon_poses1[episode2_indices],\n",
    "    vicon_poses1[episode3_indices],\n",
    "    vicon_poses2[episode4_indices],\n",
    "    vicon_poses2[episode5_indices],\n",
    "    vicon_poses2[episode6_indices],\n",
    "    vicon_poses3[episode7_indices],\n",
    "    vicon_poses3[episode8_indices],\n",
    "    vicon_poses3[episode9_indices],\n",
    "    vicon_poses4[episode10_indices],\n",
    "    vicon_poses4[episode11_indices],\n",
    "    vicon_poses4[episode12_indices]\n",
    "]\n",
    "\n",
    "cleaned_videos = [\n",
    "    video1[episode1_indices],\n",
    "    video1[episode2_indices],\n",
    "    video1[episode3_indices],\n",
    "    video2[episode4_indices],\n",
    "    video2[episode5_indices],\n",
    "    video2[episode6_indices],\n",
    "    video3[episode7_indices],\n",
    "    video3[episode8_indices],\n",
    "    video3[episode9_indices],\n",
    "    video4[episode10_indices],\n",
    "    video4[episode11_indices],\n",
    "    video4[episode12_indices]\n",
    "]"
   ]
  },
  {
   "cell_type": "code",
   "execution_count": null,
   "metadata": {},
   "outputs": [],
   "source": [
    "#mediapy.show_videos(cleaned_videos, fps=30, columns=4, width=300)"
   ]
  },
  {
   "cell_type": "markdown",
   "metadata": {},
   "source": [
    "### Interpolate to [0,100] % Episode Completion Axis"
   ]
  },
  {
   "cell_type": "code",
   "execution_count": null,
   "metadata": {},
   "outputs": [],
   "source": [
    "abs_errors = []\n",
    "abs_pos_errors = []\n",
    "abs_rot_errors = []\n",
    "\n",
    "for i in range(len(cleaned_poses)):\n",
    "    abs_error = np.abs(cleaned_poses[i] - cleaned_vicon_poses[i])\n",
    "    abs_error_interpolated = interpolate_to_percentage(abs_error)\n",
    "\n",
    "    abs_rot_errors.append(\n",
    "        interpolate_to_percentage(\n",
    "            np.abs(\n",
    "                Rotation.from_matrix(cleaned_poses[i][:, :3, :3]).as_euler(\"xyz\", degrees=True)\n",
    "                - Rotation.from_matrix(cleaned_vicon_poses[i][:, :3, :3]).as_euler(\"xyz\", degrees=True\n",
    "                )\n",
    "            )\n",
    "        )\n",
    "    )\n",
    "\n",
    "    abs_pos_errors.append(abs_error_interpolated[:, :3, 3] * 1000)"
   ]
  },
  {
   "cell_type": "code",
   "execution_count": null,
   "metadata": {},
   "outputs": [],
   "source": [
    "plt.figure()\n",
    "plt.plot(Rotation.from_matrix(cleaned_poses[0][:, :3, :3]).as_euler(\"xyz\", degrees=True))\n",
    "plt.plot(Rotation.from_matrix(cleaned_vicon_poses[0][:, :3, :3]).as_euler(\"xyz\", degrees=True))\n",
    "plt.show()"
   ]
  },
  {
   "cell_type": "code",
   "execution_count": null,
   "metadata": {},
   "outputs": [],
   "source": [
    "mean_errors = np.mean(abs_pos_errors, axis=0)\n",
    "min_errors = np.min(abs_pos_errors, axis=0)\n",
    "max_errors = np.max(abs_pos_errors, axis=0)\n",
    "\n",
    "axis_labels = ['X', 'Y', 'Z']\n",
    "colors = ['r', 'g', 'b']\n",
    "\n",
    "fig, axs = plt.subplots(1, 3, figsize=(12, 4)) \n",
    "for i in range(3):\n",
    "    axs[i].plot(mean_errors[:,i], label=f'Mean Axis {axis_labels[i]}', color=colors[i])\n",
    "    axs[i].fill_between(range(101), min_errors[:,i], max_errors[:,i], color=colors[i], alpha=0.2)\n",
    "    axs[i].set_xlabel('Episode %')\n",
    "    axs[i].set_title(f'Tracking Error {axis_labels[i]}')\n",
    "    axs[i].legend()\n",
    "    axs[i].set_ylim(0, 120)\n",
    "    axs[i].set_xlim(0, 100)\n",
    "axs[0].set_ylabel('Error [mm]')\n",
    "plt.tight_layout() \n",
    "plt.show()"
   ]
  },
  {
   "cell_type": "markdown",
   "metadata": {},
   "source": [
    "### Pose Alignment & Error Calculation"
   ]
  },
  {
   "cell_type": "code",
   "execution_count": null,
   "metadata": {},
   "outputs": [],
   "source": [
    "# Compute RMSE for translation components\n",
    "for i in range(len(cleaned_poses)):\n",
    "    print(f'#####Episode{i+1}#####')\n",
    "    rmse_translation = np.sqrt(np.mean((cleaned_poses[i][:, :3, 3] - cleaned_vicon_poses[i][:, :3, 3])**2))\n",
    "    print(f'RMSE: {rmse_translation*1000:.2f}mm')\n",
    "\n",
    "    ate = compute_ate(cleaned_poses[i], cleaned_vicon_poses[i])\n",
    "    print(f'ATE:  {ate*1000:.2f}mm')"
   ]
  },
  {
   "cell_type": "code",
   "execution_count": null,
   "metadata": {},
   "outputs": [],
   "source": [
    "# Visualize the trajectory of the centroid\n",
    "fig = plt.figure()\n",
    "ax = fig.add_subplot(111, projection='3d')\n",
    "\n",
    "### TABLE ###\n",
    "y = np.linspace(0, 0.8, 100)\n",
    "z = np.linspace(0, 1.5, 100)\n",
    "Y, Z = np.meshgrid(y, z)\n",
    "X = np.full_like(Y, 0)\n",
    "ax.plot_surface(X, Y, Z, alpha=0.5, rstride=100, cstride=100, color='grey')\n",
    "\n",
    "ax.plot(cleaned_vicon_poses[0][:,0,3],cleaned_vicon_poses[0][:,1,3],cleaned_vicon_poses[0][:,2,3], label='Trajectory (Vicon)')\n",
    "ax.plot(cleaned_poses[0][:,0,3],cleaned_poses[0][:,1,3],cleaned_poses[0][:,2,3], label='Trajectory (SLAM)')\n",
    "\n",
    "ax.set_xlabel('X')\n",
    "ax.set_ylabel('Y')\n",
    "ax.set_zlabel('Z')\n",
    "\n",
    "\n",
    "\n",
    "set_axes_equal(ax)\n",
    "ax.set_title('Trajectory of Rigid Body Centroid')\n",
    "plt.legend()\n",
    "plt.show()"
   ]
  },
  {
   "cell_type": "code",
   "execution_count": null,
   "metadata": {},
   "outputs": [],
   "source": [
    "fig = plt.figure()\n",
    "ax = fig.add_subplot(111, projection='3d')    \n",
    "ax.set_box_aspect([1.0, 1.0, 1.0])\n",
    "\n",
    "\n",
    "poses_to_plot = cleaned_vicon_poses[0][:1]\n",
    "poses_to_plot2 = cleaned_poses[0][:1]\n",
    "\n",
    "for i in range(len(poses_to_plot2)):\n",
    "    t = poses_to_plot[i,:3, 3]\n",
    "    R = poses_to_plot[i,:3, :3]\n",
    "    ax.quiver(t[0], t[1], t[2], R[0, 0], R[1, 0], R[2, 0], length=0.02, color='r', arrow_length_ratio=0)\n",
    "    ax.quiver(t[0], t[1], t[2], R[0, 1], R[1, 1], R[2, 1], length=0.02, color='g', arrow_length_ratio=0)\n",
    "    ax.quiver(t[0], t[1], t[2], R[0, 2], R[1, 2], R[2, 2], length=0.02, color='b', arrow_length_ratio=0)\n",
    "\n",
    "    t = poses_to_plot2[i,:3, 3]\n",
    "    R = poses_to_plot2[i,:3, :3]\n",
    "    ax.quiver(t[0], t[1], t[2], R[0, 0], R[1, 0], R[2, 0], length=0.02, color='r', arrow_length_ratio=0)\n",
    "    ax.quiver(t[0], t[1], t[2], R[0, 1], R[1, 1], R[2, 1], length=0.02, color='g', arrow_length_ratio=0)\n",
    "    ax.quiver(t[0], t[1], t[2], R[0, 2], R[1, 2], R[2, 2], length=0.02, color='b', arrow_length_ratio=0)\n",
    "\n",
    "    \n",
    "# ax.quiver(0,0,0, 1, 0, 0, length=0.3, color='r', arrow_length_ratio=0)    \n",
    "# ax.quiver(0,0,0, 0,1,0, length=0.3, color='g', arrow_length_ratio=0)\n",
    "# ax.quiver(0,0,0, 0,0,1, length=0.3, color='b', arrow_length_ratio=0)\n",
    "\n",
    "# TABLE\n",
    "# y = np.linspace(0, 0.8, 100)\n",
    "# z = np.linspace(0, 1.5, 100)\n",
    "# Y, Z = np.meshgrid(y, z)\n",
    "# X = np.full_like(Y, 0)\n",
    "# ax.plot_surface(X, Y, Z, alpha=0.5, rstride=100, cstride=100, color='grey')\n",
    "\n",
    "    \n",
    "ax.set_xlabel('X')\n",
    "ax.set_ylabel('Y')\n",
    "ax.set_zlabel('Z')\n",
    "    \n",
    "ax.grid(True)\n",
    "ax.view_init(elev=-45, azim=0, roll=0)\n",
    "\n",
    "set_axes_equal(ax)\n",
    "plt.show()"
   ]
  }
 ],
 "metadata": {
  "kernelspec": {
   "display_name": "base3.8",
   "language": "python",
   "name": "python3"
  },
  "language_info": {
   "codemirror_mode": {
    "name": "ipython",
    "version": 3
   },
   "file_extension": ".py",
   "mimetype": "text/x-python",
   "name": "python",
   "nbconvert_exporter": "python",
   "pygments_lexer": "ipython3",
   "version": "3.8.19"
  }
 },
 "nbformat": 4,
 "nbformat_minor": 2
}
